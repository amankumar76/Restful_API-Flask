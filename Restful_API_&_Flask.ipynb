{
  "nbformat": 4,
  "nbformat_minor": 0,
  "metadata": {
    "colab": {
      "provenance": []
    },
    "kernelspec": {
      "name": "python3",
      "display_name": "Python 3"
    },
    "language_info": {
      "name": "python"
    }
  },
  "cells": [
    {
      "cell_type": "markdown",
      "source": [
        "# **Restful API & Flask**\n",
        "\n",
        "---\n",
        "\n"
      ],
      "metadata": {
        "id": "laTmw21EsjGb"
      }
    },
    {
      "cell_type": "markdown",
      "source": [
        "1. What is a RESTful API?\n",
        "\n",
        "  A RESTful API is an application programming interface that follows the principles of REST (Representational State Transfer). It uses standard HTTP methods (GET, POST, PUT, DELETE) and stateless communication to interact with resources, typically represented in JSON format.\n",
        "\n"
      ],
      "metadata": {
        "id": "XmI45-zhsjJe"
      }
    },
    {
      "cell_type": "markdown",
      "source": [
        "2. Explain the concept of API specification.\n",
        "\n",
        "  An API specification defines how the API behaves, including endpoints, request and response formats, authentication methods, and error handling. OpenAPI (formerly Swagger) is a common standard used for this purpose."
      ],
      "metadata": {
        "id": "eILJLizTsjMt"
      }
    },
    {
      "cell_type": "markdown",
      "source": [
        "3. What is Flask, and why is it popular for building APIs?\n",
        "\n",
        "  Flask is a lightweight Python web framework that is easy to use and flexible, making it ideal for building APIs. Its simplicity, modularity, and wide ecosystem of extensions (like Flask-SQLAlchemy and Flask-RESTful) contribute to its popularity.\n",
        "\n"
      ],
      "metadata": {
        "id": "oXKLGtZTsjP6"
      }
    },
    {
      "cell_type": "markdown",
      "source": [
        "4. What is routing in Flask?\n",
        "\n",
        "  Routing in Flask refers to mapping a URL path to a specific function in the application. This determines what content or data is returned when a particular endpoint is accessed."
      ],
      "metadata": {
        "id": "fPPAgG2RsjTD"
      }
    },
    {
      "cell_type": "markdown",
      "source": [
        "5. How do you create a simple Flask application?"
      ],
      "metadata": {
        "id": "gzhYdGg5sjVz"
      }
    },
    {
      "cell_type": "code",
      "source": [
        "from flask import Flask\n",
        "\n",
        "app = Flask(__name__)\n",
        "\n",
        "@app.route('/')\n",
        "def home():\n",
        "    return 'Hello, Flask!'\n",
        "\n",
        "if __name__ == '__main__':\n",
        "    app.run(debug=True)"
      ],
      "metadata": {
        "id": "c4psVAAttAnt"
      },
      "execution_count": null,
      "outputs": []
    },
    {
      "cell_type": "markdown",
      "source": [
        "6. What are HTTP methods used in RESTful APIs?\n",
        "\n",
        "  - GET: Retrieve data\n",
        "\n",
        "  - POST: Create new data\n",
        "\n",
        "  - PUT: Update existing data\n",
        "\n",
        "  - DELETE: Remove data\n",
        "\n",
        "  - PATCH: Partially update data"
      ],
      "metadata": {
        "id": "WK12AOYhsjYz"
      }
    },
    {
      "cell_type": "markdown",
      "source": [
        "7. What is the purpose of the @app.route() decorator in Flask?\n",
        "\n",
        "  The @app.route() decorator binds a URL to a view function. It tells Flask which function to run when a specific route is accessed."
      ],
      "metadata": {
        "id": "-lmbib6gsjbU"
      }
    },
    {
      "cell_type": "markdown",
      "source": [
        "8. What is the difference between GET and POST HTTP methods?\n",
        "\n",
        "\n",
        "  - GET: Used to retrieve data, parameters are sent in the URL, and it is idempotent.\n",
        "\n",
        "  - POST: Used to send data to the server, parameters are sent in the request body, and it is not idempotent."
      ],
      "metadata": {
        "id": "VkSYvWsLsjdz"
      }
    },
    {
      "cell_type": "markdown",
      "source": [
        "9. How do you handle errors in Flask APIs?\n",
        "\n",
        "  Flask provides the @app.errorhandler() decorator to define custom responses for errors like 404 or 500. Example:"
      ],
      "metadata": {
        "id": "2sf8QMnwsjhO"
      }
    },
    {
      "cell_type": "code",
      "source": [
        "@app.errorhandler(404)\n",
        "def not_found(error):\n",
        "    return jsonify({'error': 'Not Found'}), 404"
      ],
      "metadata": {
        "id": "MC1AL1VetsVG"
      },
      "execution_count": null,
      "outputs": []
    },
    {
      "cell_type": "markdown",
      "source": [
        "10. How do you connect Flask to a SQL database?\n",
        "You can use SQLAlchemy:"
      ],
      "metadata": {
        "id": "wxt3kMA6sjkD"
      }
    },
    {
      "cell_type": "code",
      "source": [
        "from flask_sqlalchemy import SQLAlchemy\n",
        "\n",
        "app.config['SQLALCHEMY_DATABASE_URI'] = 'sqlite:///example.db'\n",
        "db = SQLAlchemy(app)"
      ],
      "metadata": {
        "id": "7n91xAkOtxEb"
      },
      "execution_count": null,
      "outputs": []
    },
    {
      "cell_type": "markdown",
      "source": [
        "11. What is the role of Flask-SQLAlchemy?\n",
        "\n",
        "  Flask-SQLAlchemy is an extension that integrates SQLAlchemy with Flask, allowing for easier database interactions using an ORM (Object Relational Mapper).\n",
        "\n"
      ],
      "metadata": {
        "id": "ux4HGDobsjnK"
      }
    },
    {
      "cell_type": "markdown",
      "source": [
        "12. What are Flask blueprints, and how are they useful?\n",
        "\n",
        "  Blueprints allow you to organize your application into smaller components or modules. They help structure large applications by grouping routes, templates, and static files together."
      ],
      "metadata": {
        "id": "mVQQWpEzsjqw"
      }
    },
    {
      "cell_type": "markdown",
      "source": [
        "13. What is the purpose of Flask's request object?\n",
        "\n",
        "  The request object provides access to incoming request data such as form fields, JSON payloads, headers, and query parameters.\n",
        "\n"
      ],
      "metadata": {
        "id": "NHD-xBG_sjuG"
      }
    },
    {
      "cell_type": "markdown",
      "source": [
        "14. How do you create a RESTful API endpoint using Flask?"
      ],
      "metadata": {
        "id": "TM5otIDhsjxc"
      }
    },
    {
      "cell_type": "code",
      "source": [
        "@app.route('/api/data', methods=['GET'])\n",
        "def get_data():\n",
        "    return jsonify({'message': 'Success'})\n"
      ],
      "metadata": {
        "id": "zQXqs8QFuIbK"
      },
      "execution_count": null,
      "outputs": []
    },
    {
      "cell_type": "markdown",
      "source": [
        "15. What is the purpose of Flask's jsonify() function?\n",
        "\n",
        "  jsonify() converts Python dictionaries into JSON format and adds the correct MIME type (application/json) to the response.\n",
        "\n"
      ],
      "metadata": {
        "id": "BSHAOPWfsj3r"
      }
    },
    {
      "cell_type": "markdown",
      "source": [
        "16. Explain Flask’s url_for() function.\n",
        "\n",
        "  url_for() dynamically generates a URL to a view function. It helps avoid hardcoding URLs:"
      ],
      "metadata": {
        "id": "dLMW_DfAsj6q"
      }
    },
    {
      "cell_type": "code",
      "source": [
        "url_for('home')  # returns '/'\n"
      ],
      "metadata": {
        "id": "6Vd3hFXmuSWh"
      },
      "execution_count": null,
      "outputs": []
    },
    {
      "cell_type": "markdown",
      "source": [
        "17. How does Flask handle static files (CSS, JavaScript, etc.)?\n",
        "  \n",
        "  Flask serves static files from the static folder by default. You can access them using:\n",
        "  \n",
        "  > <link rel=\"stylesheet\" href=\"{{ url_for('static', filename='style.css') }}\">"
      ],
      "metadata": {
        "id": "Pgjf3GFpsj9o"
      }
    },
    {
      "cell_type": "code",
      "source": [
        "from flask import Flask, render_template\n",
        "\n",
        "app = Flask(__name__)\n",
        "\n",
        "@app.route('/')\n",
        "def home():\n",
        "    return render_template('index.html')"
      ],
      "metadata": {
        "id": "OSPzNPQnyrE_"
      },
      "execution_count": null,
      "outputs": []
    },
    {
      "cell_type": "markdown",
      "source": [
        "18. What is an API specification, and how does it help in building a Flask API?\n",
        "\n",
        "  An API specification (like OpenAPI) defines the structure, endpoints, request/response types, and documentation of an API. It ensures consistency and helps developers understand and use the API effectively."
      ],
      "metadata": {
        "id": "9q3GO62yskAq"
      }
    },
    {
      "cell_type": "markdown",
      "source": [
        "19. What are HTTP status codes, and why are they important in a Flask API?\n",
        "  HTTP status codes indicate the result of an API request:\n",
        "\n",
        "  - 200 OK: Success\n",
        "\n",
        "  - 201 Created: Resource created\n",
        "\n",
        "  - 400 Bad Request: Invalid input\n",
        "\n",
        "  - 404 Not Found: Resource missing\n",
        "\n",
        "  - 500 Internal Server Error: Server issue\n",
        "\n",
        "They help clients understand the outcome of their requests."
      ],
      "metadata": {
        "id": "xKRBuSIdskFj"
      }
    },
    {
      "cell_type": "markdown",
      "source": [
        "20. How do you handle POST requests in Flask?"
      ],
      "metadata": {
        "id": "ihIKzFpTskIb"
      }
    },
    {
      "cell_type": "code",
      "source": [
        "@app.route('/submit', methods=['POST'])\n",
        "def submit():\n",
        "    data = request.get_json()\n",
        "    return jsonify({'received': data})\n"
      ],
      "metadata": {
        "id": "-lcYrOZxuyxB"
      },
      "execution_count": null,
      "outputs": []
    },
    {
      "cell_type": "markdown",
      "source": [
        "21. How would you secure a Flask API?\n",
        "\n",
        "  You can secure a Flask API using:\n",
        "\n",
        "  - Authentication (Token-based, OAuth)\n",
        "\n",
        "  - Input validation and sanitization\n",
        "\n",
        "  - HTTPS\n",
        "\n",
        "  - Rate limiting\n",
        "\n",
        "  - CSRF protection (if using forms)"
      ],
      "metadata": {
        "id": "2ZkZ1684skNZ"
      }
    },
    {
      "cell_type": "markdown",
      "source": [
        "22. What is the significance of the Flask-RESTful extension?\n",
        "\n",
        "  Flask-RESTful is an extension that simplifies building REST APIs with Flask. It provides resource-based classes and built-in support for request parsing and response formatting.\n",
        "\n"
      ],
      "metadata": {
        "id": "OMoTd7IpskWa"
      }
    },
    {
      "cell_type": "markdown",
      "source": [
        "23. What is the role of Flask’s session object?\n",
        "\n",
        "  session allows you to store user-specific data between requests using secure cookies. It’s useful for tracking logged-in users or temporary data."
      ],
      "metadata": {
        "id": "R_LTy7TMskZG"
      }
    },
    {
      "cell_type": "markdown",
      "source": [
        "# **Practical**\n",
        "\n",
        "---\n",
        "\n"
      ],
      "metadata": {
        "id": "BSwRYTkPskdA"
      }
    },
    {
      "cell_type": "markdown",
      "source": [
        "1. How do you create a basic Flask application?"
      ],
      "metadata": {
        "id": "nsrGxILRskgP"
      }
    },
    {
      "cell_type": "code",
      "source": [
        "from flask import Flask\n",
        "\n",
        "app = Flask(__name__)\n",
        "\n",
        "@app.route('/')\n",
        "def home():\n",
        "    return 'Hello, Flask!'\n",
        "\n",
        "if __name__ == '__main__':\n",
        "    app.run(debug=True)"
      ],
      "metadata": {
        "id": "LOoF7kXAvXeO"
      },
      "execution_count": null,
      "outputs": []
    },
    {
      "cell_type": "markdown",
      "source": [
        "2. How do you serve static files like images or CSS in Flask?\n",
        "\n",
        "  Create a folder named static.\n"
      ],
      "metadata": {
        "id": "o1iY6FNCsklZ"
      }
    },
    {
      "cell_type": "code",
      "source": [
        "# Install Flask and Flask-Ngrok\n",
        "!pip install flask-ngrok\n",
        "\n",
        "# Import required modules\n",
        "from flask import Flask, render_template_string, url_for\n",
        "from flask_ngrok import run_with_ngrok\n",
        "import os\n",
        "\n",
        "# Create a static folder and a CSS file\n",
        "os.makedirs(\"static\", exist_ok=True)\n",
        "with open(\"static/style.css\", \"w\") as f:\n",
        "    f.write(\"body { background-color: #e0f7fa; }\")\n",
        "\n",
        "# Create Flask app\n",
        "app = Flask(__name__)\n",
        "run_with_ngrok(app)\n",
        "\n",
        "# Define route\n",
        "@app.route('/')\n",
        "def home():\n",
        "    return render_template_string(html)\n",
        "\n",
        "# Run the app\n",
        "app.run()\n"
      ],
      "metadata": {
        "id": "mZElWo1y30BR"
      },
      "execution_count": null,
      "outputs": []
    },
    {
      "cell_type": "markdown",
      "source": [
        "3. How do you define different routes with different HTTP methods in Flask?\n",
        "\n",
        "  Use the methods argument in the route decorator:"
      ],
      "metadata": {
        "id": "j7uYtk1RskrG"
      }
    },
    {
      "cell_type": "code",
      "source": [
        "@app.route('/submit', methods=['GET', 'POST'])\n",
        "def submit():\n",
        "    if request.method == 'POST':\n",
        "        return 'Form submitted'\n",
        "    return 'Submit form'"
      ],
      "metadata": {
        "id": "Gb-JT7L6vmrg"
      },
      "execution_count": null,
      "outputs": []
    },
    {
      "cell_type": "markdown",
      "source": [
        "4. How do you render HTML templates in Flask?\n",
        "\n",
        "  Use the render_template() function and store HTML files in a folder named templates:"
      ],
      "metadata": {
        "id": "pawqwm47skv3"
      }
    },
    {
      "cell_type": "code",
      "source": [
        "from flask import render_template\n",
        "\n",
        "@app.route('/')\n",
        "def home():\n",
        "    return render_template('index.html')"
      ],
      "metadata": {
        "id": "SJsU9uzUvtKt"
      },
      "execution_count": null,
      "outputs": []
    },
    {
      "cell_type": "markdown",
      "source": [
        "5. How can you generate URLs for routes in Flask using url_for()?\n",
        "\n",
        "  Use url_for() by passing the name of the view function:"
      ],
      "metadata": {
        "id": "6hcvQSQVsk0i"
      }
    },
    {
      "cell_type": "code",
      "source": [
        "url_for('home')  # Generates URL for a function named `home`"
      ],
      "metadata": {
        "id": "4nLyizMavy4C"
      },
      "execution_count": null,
      "outputs": []
    },
    {
      "cell_type": "markdown",
      "source": [
        "6. How do you handle forms in Flask?\n",
        "  \n",
        "  Access form data via the request.form object:\n"
      ],
      "metadata": {
        "id": "ktzW94WBsk4L"
      }
    },
    {
      "cell_type": "code",
      "source": [
        "from flask import request\n",
        "\n",
        "@app.route('/login', methods=['POST'])\n",
        "def login():\n",
        "    username = request.form['username']\n",
        "    return f'Logged in as {username}'"
      ],
      "metadata": {
        "id": "RDyJ5tAmv7Ae"
      },
      "execution_count": null,
      "outputs": []
    },
    {
      "cell_type": "markdown",
      "source": [
        "7. How can you validate form data in Flask?\n",
        "\n",
        "  Manually:"
      ],
      "metadata": {
        "id": "o3ZFRbuqsk9e"
      }
    },
    {
      "cell_type": "code",
      "source": [
        "if not request.form['username']:\n",
        "    return 'Username is required'"
      ],
      "metadata": {
        "id": "odZNvByKwAk-"
      },
      "execution_count": null,
      "outputs": []
    },
    {
      "cell_type": "markdown",
      "source": [
        "  Or using Flask-WTF:"
      ],
      "metadata": {
        "id": "0EG9A3ErwDC5"
      }
    },
    {
      "cell_type": "code",
      "source": [
        "from flask_wtf import FlaskForm\n",
        "from wtforms import StringField, validators"
      ],
      "metadata": {
        "id": "Wmr7quELwH6z"
      },
      "execution_count": null,
      "outputs": []
    },
    {
      "cell_type": "markdown",
      "source": [
        "8. How do you manage sessions in Flask?\n",
        "\n",
        "  Use Flask’s session object to store data:"
      ],
      "metadata": {
        "id": "tMyns_BQslDm"
      }
    },
    {
      "cell_type": "code",
      "source": [
        "from flask import session\n",
        "\n",
        "@app.route('/set/')\n",
        "def set_session():\n",
        "    session['user'] = 'Aman'\n",
        "    return 'Session set'\n",
        "\n",
        "@app.route('/get/')\n",
        "def get_session():\n",
        "    return session.get('user', 'Not logged in')"
      ],
      "metadata": {
        "id": "0KSLNU4UwQaW"
      },
      "execution_count": null,
      "outputs": []
    },
    {
      "cell_type": "markdown",
      "source": [
        "9. How do you redirect to a different route in Flask?\n",
        "\n",
        "  Use redirect() and url_for():\n"
      ],
      "metadata": {
        "id": "IEqXfyM9slHl"
      }
    },
    {
      "cell_type": "code",
      "source": [
        "from flask import redirect, url_for\n",
        "\n",
        "@app.route('/go_home')\n",
        "def go_home():\n",
        "    return redirect(url_for('home'))"
      ],
      "metadata": {
        "id": "P0YJZh3LwX54"
      },
      "execution_count": null,
      "outputs": []
    },
    {
      "cell_type": "markdown",
      "source": [
        "10. How do you handle errors in Flask (e.g., 404)?\n",
        "\n",
        "  Use error handlers:"
      ],
      "metadata": {
        "id": "BVmkg6FaslL2"
      }
    },
    {
      "cell_type": "code",
      "source": [
        "@app.errorhandler(404)\n",
        "def page_not_found(e):\n",
        "    return render_template('404.html'), 404"
      ],
      "metadata": {
        "id": "1iK-DLN1weCr"
      },
      "execution_count": null,
      "outputs": []
    },
    {
      "cell_type": "markdown",
      "source": [
        "11. How do you structure a Flask app using Blueprints?\n",
        "\n",
        "  Blueprints help modularize your app:"
      ],
      "metadata": {
        "id": "zd3laB9MslQ5"
      }
    },
    {
      "cell_type": "code",
      "source": [
        "# In user.py\n",
        "from flask import Blueprint\n",
        "user_bp = Blueprint('user', __name__)\n",
        "\n",
        "@user_bp.route('/profile')\n",
        "def profile():\n",
        "    return 'User Profile'\n",
        "\n",
        "# In main app\n",
        "app.register_blueprint(user_bp, url_prefix='/user')"
      ],
      "metadata": {
        "id": "Qg1qldfZwlB_"
      },
      "execution_count": null,
      "outputs": []
    },
    {
      "cell_type": "markdown",
      "source": [
        "12. How do you define a custom Jinja filter in Flask?"
      ],
      "metadata": {
        "id": "qO6BJqOWslWP"
      }
    },
    {
      "cell_type": "code",
      "source": [
        "@app.template_filter('reverse')\n",
        "def reverse_filter(s):\n",
        "    return s[::-1]\n",
        "\n",
        "# In template: {{ 'hello'|reverse }}"
      ],
      "metadata": {
        "id": "AKCMf1Brwphr"
      },
      "execution_count": null,
      "outputs": []
    },
    {
      "cell_type": "markdown",
      "source": [
        "13. How can you redirect with query parameters in Flask?\n",
        "\n",
        "  Pass parameters in url_for():"
      ],
      "metadata": {
        "id": "nuZHTAxywsnD"
      }
    },
    {
      "cell_type": "code",
      "source": [
        "return redirect(url_for('search', q='flask'))"
      ],
      "metadata": {
        "id": "SH9PX8bbwwMB"
      },
      "execution_count": null,
      "outputs": []
    },
    {
      "cell_type": "markdown",
      "source": [
        "14. How do you return JSON responses in Flask?\n",
        "\n",
        "  Use jsonify():"
      ],
      "metadata": {
        "id": "-Gr5WrT-wsMn"
      }
    },
    {
      "cell_type": "code",
      "source": [
        "from flask import jsonify\n",
        "\n",
        "@app.route('/api/data')\n",
        "def api_data():\n",
        "    return jsonify({'name': 'Aman', 'role': 'Analyst'})"
      ],
      "metadata": {
        "id": "0xtsDLfJw4SK"
      },
      "execution_count": null,
      "outputs": []
    },
    {
      "cell_type": "markdown",
      "source": [
        "15. How do you capture URL parameters in Flask?\n",
        "\n",
        "  Define them in the route:"
      ],
      "metadata": {
        "id": "9SWCdMGjslbW"
      }
    },
    {
      "cell_type": "code",
      "source": [
        "@app.route('/user/<username>')\n",
        "def show_user(username):\n",
        "    return f'User: {username}'"
      ],
      "metadata": {
        "id": "CtiACEfiw-pm"
      },
      "execution_count": null,
      "outputs": []
    }
  ]
}